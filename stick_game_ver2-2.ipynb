{
  "nbformat": 4,
  "nbformat_minor": 0,
  "metadata": {
    "colab": {
      "provenance": []
    },
    "kernelspec": {
      "name": "python3",
      "display_name": "Python 3"
    },
    "language_info": {
      "name": "python"
    }
  },
  "cells": [
    {
      "cell_type": "code",
      "execution_count": null,
      "metadata": {
        "colab": {
          "base_uri": "https://localhost:8080/"
        },
        "id": "9jJukHMvYa-O",
        "outputId": "dcee01ea-ad8e-4acf-e1aa-d0536d064cc9"
      },
      "outputs": [
        {
          "output_type": "stream",
          "name": "stdout",
          "text": [
            "What is your name:Sam\n",
            "There are 20 sticks in the pile\n",
            "I take 1 stick, there are 19 sticks left in the pile\n",
            "How many you will take (1 or 2)2\n",
            "There are 17 sticks in the pile\n",
            "I take 1 stick, there are 16 sticks left in the pile\n",
            "How many you will take (1 or 2)2\n",
            "There are 14 sticks in the pile\n",
            "I take 2 stick, there are 12 sticks left in the pile\n",
            "How many you will take (1 or 2)2\n",
            "There are 10 sticks in the pile\n",
            "I take 2 stick, there are 8 sticks left in the pile\n",
            "How many you will take (1 or 2)1\n",
            "There are 7 sticks in the pile\n",
            "I take 2 stick, there are 5 sticks left in the pile\n",
            "How many you will take (1 or 2)1\n",
            "There are 4 sticks in the pile\n",
            "I take 2 stick, there are 2 sticks left in the pile\n",
            "How many you will take (1 or 2)1\n",
            "There are 1 sticks in the pile\n",
            "I take 1 stick, there are 0 sticks left in the pile\n",
            "I took the last stick\n",
            "Sam YOU WON!\n"
          ]
        }
      ],
      "source": [
        "import random\n",
        "#import random library to allow Python to randomly choose\n",
        "\n",
        "name = input('What is your name:')\n",
        "#input the player's name\n",
        "n = 20\n",
        "#set the number of sticks at 20\n",
        "print('There are 20 sticks in the pile')\n",
        "#print the initial number of sticks in the pile\n",
        "\n",
        "turn = 0\n",
        "#set the turn: when turn = 0, it is Python's turn. when turn = 1, it is the player's turn\n",
        "\n",
        "while n != 0:\n",
        "#use while loop to continue to take out sticks until no sticks left\n",
        "  if turn == 0:\n",
        "  #if it is Python's turn\n",
        "     if n == 1:\n",
        "        sticks = 1\n",
        "     #when there is 1 stick left, Python must take out 1\n",
        "     else:\n",
        "        sticks = random.randint(1,2)\n",
        "     #otherwise, randomly take out 1 or 2 sticks when it is Python's turn\n",
        "     n = n - sticks\n",
        "     #subtract sticks taken out by Python\n",
        "     print('I take' , sticks, 'stick, there are', n, 'sticks left in the pile')\n",
        "     #print the number of sticks that Python took out and indicate how many sticks left in the pile\n",
        "\n",
        "     if n == 0:\n",
        "      print('I took the last stick')\n",
        "      print(name, 'YOU WON!')\n",
        "      #if there is no stick left after Python's turn, Python took the last stick out and lost\n",
        "      break\n",
        "      #exit the loop\n",
        "\n",
        "  else:\n",
        "  #if it is player's turn\n",
        "    while True:\n",
        "    #use while loop to continue the loop until the player chooses the valid number of sticks\n",
        "      sticks = int(input('How many you will take (1 or 2)'))\n",
        "      #ask the player how many sticks he/she want to take out\n",
        "      if sticks > 2:\n",
        "         print(\"No, you cannot take more than 2 sticks\")\n",
        "         #check that a player cannot take more than 2 sticks\n",
        "      elif sticks < 1:\n",
        "         print(\"No, you cannot take less than 1 sticks\")\n",
        "         #check that a player cannot take less than 1 sticks\n",
        "      elif sticks > n:\n",
        "         print(\"There are not enough sticks to take\")\n",
        "         #check that there is not enough sticks to take\n",
        "      else:\n",
        "        break\n",
        "        #if player chooses the valid number of sticks (1 or 2), break out of the loop\n",
        "    n = n - sticks\n",
        "    #subtract sticks taken out by the player\n",
        "    print('There are', n, 'sticks in the pile')\n",
        "    #print the number of sticks left in the pile\n",
        "\n",
        "    if n == 0:\n",
        "      print('You took the last stick')\n",
        "      print('I WON (Python WON)')\n",
        "      #if there is no sticks left after player's turn,player took the last stick out and lost\n",
        "      break\n",
        "      #exit the loop\n",
        "\n",
        "  turn = 1 - turn\n",
        "  #switch the turn (0 become 1 and 1 become 0)\n"
      ]
    },
    {
      "cell_type": "markdown",
      "source": [
        "1. How the computer (Python) should think? (Explain AI strategy)\n",
        "- In this stick game, there are 20 sticks at the beginning. Each player (Python and the player) takes 1 or 2 sticks per turn. The player who takes the last stick loses. For the current strategy according to the code above, Python picks randomly between taking 1 or 2 sticks, without regard to the current game state or the number of sticks left. If only 1 stick is left, Python is forced to take the last stick and lose the game. This means Python is not playing optimally. If Python were playing intelligently, it would aim to force the player to take the last stick and leave the player in a losing position.\n",
        "Losing positions are that there are 1, 4, 7, 10, 13, 16, 19 sticks left (a multiple of 3 plus 1) when it is your turn. These are the positions where, no matter what move you make (take 1 or 2 sticks), you will give the opponent a winning position. So, the ideal strategy is to make a move that leaves the opponent with one of these losing numbers of sticks.\n",
        "\n",
        "\n",
        "\n"
      ],
      "metadata": {
        "id": "70UVa3z20BYV"
      }
    },
    {
      "cell_type": "markdown",
      "source": [
        "\n",
        "2.Is it true that: If the computer (Python) does the first move, she will always win.\n",
        "- According to the code above, Python does not always win even if it goes first, because Python plays randomly since its choices are based on chance — not an optimal strategy. However, If Python goes first and plays optimally, Python can always leave the player in a losing position (when there are 1, 4, 7, 10, 13, 16, 19 sticks left ) and will always win. On each of Python’s turns, the goal will be to leave the player with one of these losing numbers.\n"
      ],
      "metadata": {
        "id": "wVfv2i1XkwmO"
      }
    },
    {
      "cell_type": "markdown",
      "source": [
        "3.What if the number of sticks change to any number, will AI the strategy change?\n",
        "- No, the AI strategy remains the same regardless of how many sticks are in the pile, but the chance of winning depends on the starting number and who goes first. The optimal strategy is to always leave the opponent with a losing position (when the number of sticks left is a multiple of 3 plus 1 (like 1, 4, 7, 10, etc.). The AI will attempt to reduce the stick count to one of these values on the opponent’s turn. This logic doesn’t change regardless of whether the game starts with 10, 20, or 100 sticks. However, the outcome will depend on whether the starting number is itself a losing position and whether the AI moves first. If the AI starts on a non-losing position and plays optimally, it can win. Conversely, if it starts on a losing position, then an opponent has the chance to force the AI to lose. Thus, the strategy remains constant, but the outcome is situational.\n"
      ],
      "metadata": {
        "id": "d-g_OKtNk120"
      }
    }
  ]
}